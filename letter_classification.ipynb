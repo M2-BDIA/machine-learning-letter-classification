{
 "cells": [
  {
   "cell_type": "markdown",
   "metadata": {},
   "source": [
    "### Import libraries"
   ]
  },
  {
   "cell_type": "code",
   "execution_count": 36,
   "metadata": {},
   "outputs": [],
   "source": [
    "import numpy as np\n",
    "from tensorflow import keras\n",
    "from keras.models import Sequential\n",
    "from keras.layers import Conv2D, MaxPooling2D, AveragePooling2D\n",
    "from tensorflow.keras.layers import AveragePooling2D\n",
    "from keras.preprocessing.image import ImageDataGenerator\n",
    "from keras.layers import Activation, Dropout, Flatten, Dense\n",
    "# %pip install visualkeras\n",
    "import visualkeras as vk\n",
    "import matplotlib.pyplot as plt\n",
    "import matplotlib.image as mpimg\n",
    "from sklearn.metrics import confusion_matrix\n",
    "import pandas as pd\n",
    "import seaborn as sns\n",
    "import glob\n",
    "import os"
   ]
  },
  {
   "cell_type": "markdown",
   "metadata": {},
   "source": [
    "## Prepare the data"
   ]
  },
  {
   "cell_type": "code",
   "execution_count": 19,
   "metadata": {},
   "outputs": [],
   "source": [
    "# Model / data parameters\n",
    "img_width, img_height = 28, 28\n",
    "epochs = 15\n",
    "batch_size = 16\n",
    "input_shape = (28, 28, 1)\n",
    "num_classes = 10"
   ]
  },
  {
   "cell_type": "markdown",
   "metadata": {},
   "source": [
    "notMNIST_load_data is a function that loads the notMNIST dataset. It returns three tuples containing the training, validation and test data. Each tuple is formed by a numpy array containing the images and a numpy array containing the labels (0 to 9)."
   ]
  },
  {
   "cell_type": "code",
   "execution_count": 20,
   "metadata": {},
   "outputs": [],
   "source": [
    "def notMNIST_load_data() : \n",
    "    data_dir_letters = 'data/notMNIST_small'\n",
    "\n",
    "    nb_letters = len(os.listdir(data_dir_letters))\n",
    "    if nb_letters != num_classes:\n",
    "        raise ValueError('The number of classes is not equal to the number of letters in the folder')\n",
    "\n",
    "    x_train = []\n",
    "    y_train = []\n",
    "    x_val = []\n",
    "    y_val = []\n",
    "    x_test = []\n",
    "    y_test = []\n",
    "\n",
    "    # we get the number of samples in the smallest class\n",
    "    min_nb_samples = float('inf')\n",
    "    for letter in os.listdir(data_dir_letters):\n",
    "        nb_samples = len(os.listdir(os.path.join(data_dir_letters, letter)))\n",
    "        min_nb_samples = min(min_nb_samples, nb_samples)\n",
    "\n",
    "    # 80% of the data is used for training\n",
    "    # 10% for validation\n",
    "    # 10% for testing\n",
    "    nb_train_samples = int(min_nb_samples * 0.7)\n",
    "    nb_validation_samples = int(min_nb_samples * 0.1)\n",
    "    nb_test_samples = nb_samples - nb_train_samples - nb_validation_samples\n",
    "\n",
    "    # for each letter folder, we copy the images in the train, validation or test tuple and the label\n",
    "    # TODO : randomize the order of the images would be better ?\n",
    "    for letter in os.listdir(data_dir_letters):\n",
    "        index = 0\n",
    "\n",
    "        for image in glob.iglob(os.path.join(data_dir_letters, letter, \"*.png\")):\n",
    "\n",
    "            if index < nb_train_samples:\n",
    "                pixels_array = mpimg.imread(image)\n",
    "                x_train.append(pixels_array)\n",
    "                y_train.append(ord(letter) - 65)\n",
    "            elif index < nb_train_samples + nb_validation_samples:\n",
    "                pixels_array = mpimg.imread(image)\n",
    "                x_val.append(pixels_array)\n",
    "                y_val.append(ord(letter) - 65)\n",
    "            elif index < nb_train_samples + nb_validation_samples + nb_test_samples:\n",
    "                pixels_array = mpimg.imread(image)\n",
    "                x_test.append(pixels_array)\n",
    "                y_test.append(ord(letter) - 65)\n",
    "            index += 1\n",
    "    \n",
    "    return (np.array(x_train), np.array(y_train)), (np.array(x_test), np.array(y_test)), (np.array(x_val), np.array(y_val))"
   ]
  },
  {
   "cell_type": "code",
   "execution_count": 21,
   "metadata": {},
   "outputs": [],
   "source": [
    "# load the data, split between train and test sets\n",
    "# (x_train, y_train), (x_test, y_test) = notMNIST_load_data()\n",
    "(x_train, y_train), (x_test, y_test), (x_val, y_val) = notMNIST_load_data()"
   ]
  },
  {
   "cell_type": "code",
   "execution_count": 22,
   "metadata": {},
   "outputs": [],
   "source": [
    "# Scale images to the [0, 1] range\n",
    "x_train = x_train.astype(\"float32\") / 255\n",
    "x_test = x_test.astype(\"float32\") / 255\n",
    "x_val = x_val.astype(\"float32\") / 255"
   ]
  },
  {
   "cell_type": "code",
   "execution_count": 23,
   "metadata": {},
   "outputs": [
    {
     "name": "stdout",
     "output_type": "stream",
     "text": [
      "x_train shape: (13100, 28, 28, 1)\n",
      "13100 train samples\n",
      "3750 test samples\n",
      "1870 validation samples\n"
     ]
    }
   ],
   "source": [
    "# Make sure images have shape (28, 28, 1)\n",
    "x_train = np.expand_dims(x_train, -1)\n",
    "x_test = np.expand_dims(x_test, -1)\n",
    "x_val = np.expand_dims(x_val, -1)\n",
    "print(\"x_train shape:\", x_train.shape)\n",
    "print(x_train.shape[0], \"train samples\")\n",
    "print(x_test.shape[0], \"test samples\")\n",
    "print(x_val.shape[0], \"validation samples\")"
   ]
  },
  {
   "cell_type": "code",
   "execution_count": 24,
   "metadata": {},
   "outputs": [],
   "source": [
    "# convert class vectors to binary class matrices\n",
    "y_train = keras.utils.to_categorical(y_train, num_classes)\n",
    "y_test = keras.utils.to_categorical(y_test, num_classes)\n",
    "y_val = keras.utils.to_categorical(y_val, num_classes)"
   ]
  },
  {
   "cell_type": "markdown",
   "metadata": {},
   "source": [
    "## Build the model"
   ]
  },
  {
   "cell_type": "code",
   "execution_count": 223,
   "metadata": {},
   "outputs": [],
   "source": [
    "def build_model():\n",
    "    model = Sequential()\n",
    "    model.add(Conv2D(32, (3, 3), input_shape=input_shape))\n",
    "    model.add(Activation('relu'))\n",
    "    model.add(MaxPooling2D(pool_size=(2, 2)))\n",
    "\n",
    "    model.add(Conv2D(32, (3, 3)))\n",
    "    model.add(Activation('relu'))\n",
    "    model.add(MaxPooling2D(pool_size=(2, 2)))\n",
    "\n",
    "    model.add(Conv2D(64, (3, 3)))\n",
    "    model.add(Activation('relu'))\n",
    "    model.add(MaxPooling2D(pool_size=(2, 2)))\n",
    "\n",
    "    model.add(Flatten())\n",
    "    model.add(Dense(units=64, activation='relu'))\n",
    "    model.add(Dropout(rate=0.5))\n",
    "    model.add(Dense(num_classes, activation='softmax'))\n",
    "\n",
    "    return model"
   ]
  },
  {
   "cell_type": "code",
   "execution_count": 224,
   "metadata": {},
   "outputs": [],
   "source": [
    "def build_model_LeNet():\n",
    "    # LeNet-5 architecture\n",
    "    model = Sequential()\n",
    "    \n",
    "    model.add(Conv2D(filters=6, kernel_size=(3, 3), activation='relu', input_shape=input_shape))\n",
    "    model.add(AveragePooling2D())\n",
    "\n",
    "    model.add(Conv2D(filters=16, kernel_size=(3, 3), activation='relu'))\n",
    "    model.add(AveragePooling2D())\n",
    "\n",
    "    model.add(Flatten())\n",
    "\n",
    "    model.add(Dense(units=120, activation='relu'))\n",
    "    model.add(Dense(units=84, activation='relu'))\n",
    "    model.add(Dense(units=num_classes, activation = 'softmax'))\n",
    "\n",
    "    return model"
   ]
  },
  {
   "cell_type": "code",
   "execution_count": null,
   "metadata": {},
   "outputs": [],
   "source": [
    "def build_model_LeNet_new():\n",
    "    # LeNet-5 architecture\n",
    "    model = Sequential()\n",
    "    \n",
    "    model.add(Conv2D(filters=6, kernel_size=(5, 5), activation='tanh', input_shape=input_shape))\n",
    "    model.add(AveragePooling2D(pool_size=(2, 2), strides=(2, 2)))\n",
    "\n",
    "    model.add(Conv2D(filters=16, kernel_size=(5, 5), activation='tanh'))\n",
    "    model.add(AveragePooling2D(pool_size=(2, 2), strides=(2, 2)))\n",
    "\n",
    "    model.add(Flatten())\n",
    "\n",
    "    model.add(Dense(units=120, activation='tanh'))\n",
    "    model.add(Dense(units=84, activation='tanh'))\n",
    "    model.add(Dense(units=num_classes, activation = 'softmax'))\n",
    "\n",
    "    return model"
   ]
  },
  {
   "cell_type": "code",
   "execution_count": 25,
   "metadata": {},
   "outputs": [],
   "source": [
    "def build_model_LeNet_best():\n",
    "    # LeNet-5 architecture found in a paper\n",
    "    model = Sequential()\n",
    "    \n",
    "    model.add(Conv2D(filters=32, kernel_size=(5, 5), padding='same', activation='relu', input_shape=input_shape))\n",
    "    model.add(MaxPooling2D(strides=2))\n",
    "\n",
    "    model.add(Conv2D(filters=48, kernel_size=(5, 5), padding='valid', activation='relu'))\n",
    "    model.add(MaxPooling2D(strides=2))\n",
    "\n",
    "    model.add(Flatten())\n",
    "\n",
    "    model.add(Dense(units=256, activation='relu'))\n",
    "    model.add(Dense(units=84, activation='relu'))\n",
    "    model.add(Dense(units=num_classes, activation = 'softmax'))\n",
    "\n",
    "    return model"
   ]
  },
  {
   "cell_type": "code",
   "execution_count": 26,
   "metadata": {},
   "outputs": [
    {
     "name": "stdout",
     "output_type": "stream",
     "text": [
      "Model: \"sequential_1\"\n",
      "_________________________________________________________________\n",
      " Layer (type)                Output Shape              Param #   \n",
      "=================================================================\n",
      " conv2d_2 (Conv2D)           (None, 28, 28, 32)        832       \n",
      "                                                                 \n",
      " max_pooling2d_2 (MaxPoolin  (None, 14, 14, 32)        0         \n",
      " g2D)                                                            \n",
      "                                                                 \n",
      " conv2d_3 (Conv2D)           (None, 10, 10, 48)        38448     \n",
      "                                                                 \n",
      " max_pooling2d_3 (MaxPoolin  (None, 5, 5, 48)          0         \n",
      " g2D)                                                            \n",
      "                                                                 \n",
      " flatten_1 (Flatten)         (None, 1200)              0         \n",
      "                                                                 \n",
      " dense_3 (Dense)             (None, 256)               307456    \n",
      "                                                                 \n",
      " dense_4 (Dense)             (None, 84)                21588     \n",
      "                                                                 \n",
      " dense_5 (Dense)             (None, 10)                850       \n",
      "                                                                 \n",
      "=================================================================\n",
      "Total params: 369174 (1.41 MB)\n",
      "Trainable params: 369174 (1.41 MB)\n",
      "Non-trainable params: 0 (0.00 Byte)\n",
      "_________________________________________________________________\n"
     ]
    }
   ],
   "source": [
    "# get the model\n",
    "model = build_model_LeNet_best()\n",
    "model.summary()"
   ]
  },
  {
   "cell_type": "code",
   "execution_count": 27,
   "metadata": {},
   "outputs": [],
   "source": [
    "# Compile the model\n",
    "model.compile(\n",
    "    loss=\"categorical_crossentropy\", \n",
    "    optimizer=\"adam\", \n",
    "    metrics=[\"accuracy\"]\n",
    ")"
   ]
  },
  {
   "cell_type": "markdown",
   "metadata": {},
   "source": [
    "### Visualize the model"
   ]
  },
  {
   "cell_type": "code",
   "execution_count": 32,
   "metadata": {},
   "outputs": [
    {
     "data": {
      "image/png": "[encoded data removed]",
      "text/plain": [
       "<PIL.Image.Image image mode=RGBA size=378x150>"
      ]
     },
     "execution_count": 32,
     "metadata": {},
     "output_type": "execute_result"
    }
   ],
   "source": [
    "vk.layered_view(model)"
   ]
  },
  {
   "cell_type": "markdown",
   "metadata": {},
   "source": [
    "## Data augmentation"
   ]
  },
  {
   "cell_type": "code",
   "execution_count": 28,
   "metadata": {},
   "outputs": [],
   "source": [
    "datagen = ImageDataGenerator(\n",
    "            rotation_range=10, \n",
    "            width_shift_range=0.1, \n",
    "            height_shift_range=0.1, \n",
    "            zoom_range=0.1)\n",
    "datagen.fit(x_train)"
   ]
  },
  {
   "cell_type": "markdown",
   "metadata": {},
   "source": [
    "## Train the model"
   ]
  },
  {
   "cell_type": "code",
   "execution_count": 29,
   "metadata": {},
   "outputs": [
    {
     "name": "stdout",
     "output_type": "stream",
     "text": [
      "Epoch 1/30\n",
      "131/131 [==============================] - 8s 55ms/step - loss: 1.8070 - accuracy: 0.3557 - val_loss: 0.9686 - val_accuracy: 0.7289\n",
      "Epoch 2/30\n",
      "131/131 [==============================] - 8s 61ms/step - loss: 1.0525 - accuracy: 0.6767 - val_loss: 0.6548 - val_accuracy: 0.8214\n",
      "Epoch 3/30\n",
      "131/131 [==============================] - 7s 55ms/step - loss: 0.8291 - accuracy: 0.7530 - val_loss: 0.4971 - val_accuracy: 0.8663\n",
      "Epoch 4/30\n",
      "131/131 [==============================] - 8s 58ms/step - loss: 0.7091 - accuracy: 0.7955 - val_loss: 0.4123 - val_accuracy: 0.8909\n",
      "Epoch 5/30\n",
      "131/131 [==============================] - 8s 59ms/step - loss: 0.6108 - accuracy: 0.8240 - val_loss: 0.3657 - val_accuracy: 0.9043\n",
      "Epoch 6/30\n",
      "131/131 [==============================] - 8s 63ms/step - loss: 0.5750 - accuracy: 0.8296 - val_loss: 0.3391 - val_accuracy: 0.9086\n",
      "Epoch 7/30\n",
      "131/131 [==============================] - 8s 62ms/step - loss: 0.5304 - accuracy: 0.8441 - val_loss: 0.3126 - val_accuracy: 0.9150\n",
      "Epoch 8/30\n",
      "131/131 [==============================] - 8s 59ms/step - loss: 0.4898 - accuracy: 0.8539 - val_loss: 0.2971 - val_accuracy: 0.9155\n",
      "Epoch 9/30\n",
      "131/131 [==============================] - 7s 56ms/step - loss: 0.4721 - accuracy: 0.8603 - val_loss: 0.2952 - val_accuracy: 0.9187\n",
      "Epoch 10/30\n",
      "131/131 [==============================] - 8s 64ms/step - loss: 0.4458 - accuracy: 0.8661 - val_loss: 0.2812 - val_accuracy: 0.9241\n",
      "Epoch 11/30\n",
      "131/131 [==============================] - 8s 61ms/step - loss: 0.4250 - accuracy: 0.8714 - val_loss: 0.2654 - val_accuracy: 0.9241\n",
      "Epoch 12/30\n",
      "131/131 [==============================] - 7s 57ms/step - loss: 0.4024 - accuracy: 0.8753 - val_loss: 0.2605 - val_accuracy: 0.9294\n",
      "Epoch 13/30\n",
      "131/131 [==============================] - 8s 58ms/step - loss: 0.3951 - accuracy: 0.8810 - val_loss: 0.2554 - val_accuracy: 0.9294\n",
      "Epoch 14/30\n",
      "131/131 [==============================] - 8s 64ms/step - loss: 0.3886 - accuracy: 0.8839 - val_loss: 0.2510 - val_accuracy: 0.9299\n",
      "Epoch 15/30\n",
      "131/131 [==============================] - 8s 62ms/step - loss: 0.3662 - accuracy: 0.8865 - val_loss: 0.2644 - val_accuracy: 0.9273\n",
      "Epoch 16/30\n",
      "131/131 [==============================] - 7s 56ms/step - loss: 0.3585 - accuracy: 0.8900 - val_loss: 0.2517 - val_accuracy: 0.9321\n",
      "Epoch 17/30\n",
      "131/131 [==============================] - 7s 54ms/step - loss: 0.3536 - accuracy: 0.8932 - val_loss: 0.2422 - val_accuracy: 0.9299\n",
      "Epoch 18/30\n",
      "131/131 [==============================] - 8s 57ms/step - loss: 0.3449 - accuracy: 0.8937 - val_loss: 0.2256 - val_accuracy: 0.9348\n",
      "Epoch 19/30\n",
      "131/131 [==============================] - 8s 60ms/step - loss: 0.3367 - accuracy: 0.8952 - val_loss: 0.2379 - val_accuracy: 0.9262\n",
      "Epoch 20/30\n",
      "131/131 [==============================] - 6s 42ms/step - loss: 0.3287 - accuracy: 0.8983 - val_loss: 0.2386 - val_accuracy: 0.9337\n",
      "Epoch 21/30\n",
      "131/131 [==============================] - 7s 52ms/step - loss: 0.3214 - accuracy: 0.9008 - val_loss: 0.2161 - val_accuracy: 0.9380\n",
      "Epoch 22/30\n",
      "131/131 [==============================] - 7s 56ms/step - loss: 0.3100 - accuracy: 0.9034 - val_loss: 0.2086 - val_accuracy: 0.9406\n",
      "Epoch 23/30\n",
      "131/131 [==============================] - 8s 59ms/step - loss: 0.3155 - accuracy: 0.9026 - val_loss: 0.2303 - val_accuracy: 0.9321\n",
      "Epoch 24/30\n",
      "131/131 [==============================] - 7s 51ms/step - loss: 0.3027 - accuracy: 0.9056 - val_loss: 0.2127 - val_accuracy: 0.9412\n",
      "Epoch 25/30\n",
      "131/131 [==============================] - 7s 56ms/step - loss: 0.2915 - accuracy: 0.9092 - val_loss: 0.2171 - val_accuracy: 0.9422\n",
      "Epoch 26/30\n",
      "131/131 [==============================] - 7s 56ms/step - loss: 0.2914 - accuracy: 0.9069 - val_loss: 0.2144 - val_accuracy: 0.9385\n",
      "Epoch 27/30\n",
      "131/131 [==============================] - 8s 58ms/step - loss: 0.2808 - accuracy: 0.9120 - val_loss: 0.2095 - val_accuracy: 0.9390\n",
      "Epoch 28/30\n",
      "131/131 [==============================] - 6s 48ms/step - loss: 0.2822 - accuracy: 0.9097 - val_loss: 0.2205 - val_accuracy: 0.9364\n",
      "Epoch 29/30\n",
      "131/131 [==============================] - 6s 47ms/step - loss: 0.2779 - accuracy: 0.9145 - val_loss: 0.2060 - val_accuracy: 0.9390\n",
      "Epoch 30/30\n",
      "131/131 [==============================] - 7s 56ms/step - loss: 0.2584 - accuracy: 0.9195 - val_loss: 0.2187 - val_accuracy: 0.9380\n"
     ]
    },
    {
     "data": {
      "text/plain": [
       "<keras.src.callbacks.History at 0x1eb822d8990>"
      ]
     },
     "execution_count": 29,
     "metadata": {},
     "output_type": "execute_result"
    }
   ],
   "source": [
    "# model.fit(x_train, y_train, batch_size=batch_size, epochs=30, steps_per_epoch=len(x_train) // batch_size)\n",
    "model.fit(datagen.flow(x_train, y_train, batch_size=100), epochs=30, steps_per_epoch=len(x_train) // 100, validation_data=(x_val, y_val))"
   ]
  },
  {
   "cell_type": "markdown",
   "metadata": {},
   "source": [
    "## Evaluate the trained model"
   ]
  },
  {
   "cell_type": "code",
   "execution_count": 30,
   "metadata": {},
   "outputs": [
    {
     "name": "stdout",
     "output_type": "stream",
     "text": [
      "  1/235 [..............................] - ETA: 7s - loss: 1.2901e-04 - accuracy: 1.0000"
     ]
    },
    {
     "name": "stdout",
     "output_type": "stream",
     "text": [
      "235/235 [==============================] - 1s 2ms/step - loss: 0.2286 - accuracy: 0.9293\n",
      "Test loss: 0.22855401039123535\n",
      "Test accuracy: 0.9293333292007446\n"
     ]
    }
   ],
   "source": [
    "score = model.evaluate(x_test, y_test, batch_size=batch_size)\n",
    "print(\"Test loss:\", score[0])\n",
    "print(\"Test accuracy:\", score[1])"
   ]
  },
  {
   "cell_type": "code",
   "execution_count": 38,
   "metadata": {},
   "outputs": [
    {
     "name": "stdout",
     "output_type": "stream",
     "text": [
      "118/118 [==============================] - 0s 3ms/step\n"
     ]
    }
   ],
   "source": [
    "# Perform Prediction\n",
    "y_pred = model.predict(x_test)"
   ]
  },
  {
   "cell_type": "markdown",
   "metadata": {},
   "source": [
    "### Show Confusion Matrix"
   ]
  },
  {
   "cell_type": "code",
   "execution_count": 54,
   "metadata": {},
   "outputs": [],
   "source": [
    "def plot_confusion_matrix(y_test, y_pred, nb_classes):\n",
    "    classes = np.arange(nb_classes)\n",
    "    classes_print = [chr(i) for i in range(65, 65 + nb_classes)]\n",
    "    cm = confusion_matrix(y_test, y_pred, labels=classes)\n",
    "    cm_df = pd.DataFrame(cm, index=classes_print, columns=classes_print)\n",
    "\n",
    "    plt.figure(1, figsize=(16, 8))\n",
    "    sns.set(font_scale=1.5, color_codes=True, palette='deep')\n",
    "    sns.heatmap(cm_df, annot=True, annot_kws={'size': 16}, fmt='d', cmap='YlGnBu')\n",
    "    plt.ylabel(\"True Label\")\n",
    "    plt.xlabel(\"Predicted Label\")\n",
    "    plt.title('Confusion Matrix')\n",
    "    plt.show()"
   ]
  },
  {
   "cell_type": "code",
   "execution_count": 57,
   "metadata": {},
   "outputs": [
    {
     "data": {
      "image/png": "[encoded data removed]",
      "text/plain": [
       "<Figure size 1600x800 with 2 Axes>"
      ]
     },
     "metadata": {},
     "output_type": "display_data"
    }
   ],
   "source": [
    "plot_confusion_matrix(y_test.argmax(axis=1), y_pred.argmax(axis=1), 10)"
   ]
  },
  {
   "cell_type": "markdown",
   "metadata": {},
   "source": [
    "### Results - used to find the best architecture and hyperparameters\n",
    "* Architecture LeNet-5 \\\n",
    "50 epochs, batch size 128 \\\n",
    "Epoch 50/50 - loss: 0.3308 - accuracy: 0.8945 \\\n",
    "Test loss: 2.313185691833496 \\\n",
    "Test accuracy: 0.649066686630249 \\\n",
    "\n",
    "* Architecture LeNet-5 \\\n",
    "15 epochs, batch size 16 \\\n",
    "Epoch 15/15 - loss: 0.4077 - accuracy: 0.8687 \\\n",
    "Test loss: 2.001655101776123 \\\n",
    "Test accuracy: 0.7760000228881836 \\\n",
    "\n",
    "* Architecture LeNet-5 \\\n",
    "15 epochs, batch size 16 \\\n",
    "Convolution : kernel_size=(5, 5), activation='relu' \\\n",
    "Epoch 15/15 - loss: 0.2376 - accuracy: 0.9270 \\\n",
    "Test loss: 1.7583626508712769 \\\n",
    "Test accuracy: 0.8191999793052673 \\\n",
    "\n",
    "* Architecture LeNet-5_new \\\n",
    "15 epochs, batch size 16 \\\n",
    "Convolution : kernel_size=(5, 5), activation='tanh' \\\n",
    "Pooling : pool_size=(2, 2), strides=(2, 2) \\\n",
    "Epoch 15/15 - loss: 0.2376 - accuracy: 0.9270 \\\n",
    "Test loss: 1.7583626508712769   \\\n",
    "Test accuracy: 0.8191999793052673 \\\n",
    "\n",
    "* Architecture LeNet-5_best (from paper)  \\\n",
    "30 epochs, batch size 16, steps_per_epoch=len(x_train) // batch_size \\\n",
    "Epoch 30/30 - loss: 0.0706 - accuracy: 0.9753 \\\n",
    "Test loss: 0.47975218296051025 \\\n",
    "Test accuracy: 0.909333348274231 \\\n",
    "\n",
    "* Architecture LeNet-5_best (from paper) with data augmentation \\\n",
    "30 epochs, batch size 100, steps_per_epoch=len(x_train) // 100 \\\n",
    "Epoch 30/30 - loss: 0.2406 - accuracy: 0.9232 \\\n",
    "Test loss: 0.24029511213302612  \\\n",
    "Test accuracy: 0.9306666851043701 \\\n",
    "\n",
    "* Architecture LeNet-5_best (from paper) with data augmentation and validation \\\n",
    "30 epochs, batch size 100, steps_per_epoch=len(x_train) // 100 \\\n",
    "Epoch 30/30 - loss: 0.2584 - accuracy: 0.9195 \\\n",
    "Test loss: 0.22855401039123535  \\\n",
    "Test accuracy: 0.9293333292007446 \\"
   ]
  },
  {
   "cell_type": "markdown",
   "metadata": {},
   "source": []
  },
  {
   "cell_type": "markdown",
   "metadata": {},
   "source": [
    "### Papers :\n",
    "https://www.kaggle.com/code/curiousprogrammer/lenet-5-cnn-with-keras-99-48 \\\n",
    "https://patilswaraj22.medium.com/keras-based-implementation-of-lenet-5-db678b11c61a (For the confusion matrix)"
   ]
  },
  {
   "cell_type": "markdown",
   "metadata": {},
   "source": []
  }
 ],
 "metadata": {
  "kernelspec": {
   "display_name": "Python 3",
   "language": "python",
   "name": "python3"
  },
  "language_info": {
   "codemirror_mode": {
    "name": "ipython",
    "version": 3
   },
   "file_extension": ".py",
   "mimetype": "text/x-python",
   "name": "python",
   "nbconvert_exporter": "python",
   "pygments_lexer": "ipython3",
   "version": "3.11.1"
  }
 },
 "nbformat": 4,
 "nbformat_minor": 2
}
