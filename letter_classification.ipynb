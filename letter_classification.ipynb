{
 "cells": [
  {
   "cell_type": "markdown",
   "metadata": {},
   "source": [
    "### Import libraries"
   ]
  },
  {
   "cell_type": "code",
   "execution_count": 67,
   "metadata": {},
   "outputs": [],
   "source": [
    "import numpy as np\n",
    "from keras.preprocessing.image import ImageDataGenerator\n",
    "from keras.models import Sequential\n",
    "from keras.layers import Conv2D, MaxPooling2D\n",
    "from keras.layers import Activation, Dropout, Flatten, Dense\n",
    "from tensorflow import keras\n",
    "import shutil\n",
    "import matplotlib.image as mpimg\n",
    "import glob\n",
    "import os"
   ]
  },
  {
   "cell_type": "markdown",
   "metadata": {},
   "source": [
    "## Prepare the data"
   ]
  },
  {
   "cell_type": "code",
   "execution_count": 68,
   "metadata": {},
   "outputs": [],
   "source": [
    "# Model / data parameters\n",
    "img_width, img_height = 28, 28\n",
    "epochs = 50\n",
    "batch_size = 16\n",
    "input_shape = (28, 28, 1)\n",
    "num_classes = 10"
   ]
  },
  {
   "cell_type": "markdown",
   "metadata": {},
   "source": [
    "notMNIST_load_data is a function that loads the notMNIST dataset. It returns three tuples containing the training, validation and test data. Each tuple is formed by a numpy array containing the images and a numpy array containing the labels (0 to 9)."
   ]
  },
  {
   "cell_type": "code",
   "execution_count": 69,
   "metadata": {},
   "outputs": [],
   "source": [
    "def notMNIST_load_data() : \n",
    "    data_dir_letters = 'data/notMNIST_small'\n",
    "\n",
    "    nb_letters = len(os.listdir(data_dir_letters))\n",
    "    if nb_letters != num_classes:\n",
    "        raise ValueError('The number of classes is not equal to the number of letters in the folder')\n",
    "\n",
    "    x_train = []\n",
    "    y_train = []\n",
    "    x_test = []\n",
    "    y_test = []\n",
    "\n",
    "    # we get the number of samples in the smallest class\n",
    "    min_nb_samples = float('inf')\n",
    "    for letter in os.listdir(data_dir_letters):\n",
    "        nb_samples = len(os.listdir(os.path.join(data_dir_letters, letter)))\n",
    "        min_nb_samples = min(min_nb_samples, nb_samples)\n",
    "\n",
    "    # 80% of the data is used for training\n",
    "    # 10% for validation\n",
    "    # 10% for testing\n",
    "    nb_train_samples = int(min_nb_samples * 0.8)\n",
    "    # nb_validation_samples = int(min_nb_samples * 0.1)\n",
    "    nb_validation_samples = 0\n",
    "    nb_test_samples = nb_samples - nb_train_samples - nb_validation_samples\n",
    "\n",
    "    # for each letter folder, we copy the images in the train, validation or test tuple and the label\n",
    "    # TODO : randomize the order of the images would be better ?\n",
    "    for letter in os.listdir(data_dir_letters):\n",
    "        index = 0\n",
    "\n",
    "        for image in glob.iglob(os.path.join(data_dir_letters, letter, \"*.png\")):\n",
    "\n",
    "            if index < nb_train_samples:\n",
    "                pixels_array = mpimg.imread(image)\n",
    "                x_train.append(pixels_array)\n",
    "                y_train.append(ord(letter) - 65)\n",
    "            #elif index < nb_train_samples + nb_validation_samples:\n",
    "                \n",
    "            elif index < nb_train_samples + nb_validation_samples + nb_test_samples:\n",
    "                pixels_array = mpimg.imread(image)\n",
    "                x_test.append(pixels_array)\n",
    "                y_test.append(ord(letter) - 65)\n",
    "            index += 1\n",
    "    \n",
    "    return (np.array(x_train), np.array(y_train)), (np.array(x_test), np.array(y_test))"
   ]
  },
  {
   "cell_type": "code",
   "execution_count": 70,
   "metadata": {},
   "outputs": [],
   "source": [
    "# load the data, split between train and test sets\n",
    "(x_train, y_train), (x_test, y_test) = notMNIST_load_data()"
   ]
  },
  {
   "cell_type": "code",
   "execution_count": 71,
   "metadata": {},
   "outputs": [],
   "source": [
    "# Scale images to the [0, 1] range\n",
    "x_train = x_train.astype(\"float32\") / 255\n",
    "x_test = x_test.astype(\"float32\") / 255"
   ]
  },
  {
   "cell_type": "code",
   "execution_count": 72,
   "metadata": {},
   "outputs": [
    {
     "name": "stdout",
     "output_type": "stream",
     "text": [
      "x_train shape: (14970, 28, 28, 1)\n",
      "14970 train samples\n",
      "3750 test samples\n"
     ]
    }
   ],
   "source": [
    "# Make sure images have shape (28, 28, 1)\n",
    "x_train = np.expand_dims(x_train, -1)\n",
    "x_test = np.expand_dims(x_test, -1)\n",
    "print(\"x_train shape:\", x_train.shape)\n",
    "print(x_train.shape[0], \"train samples\")\n",
    "print(x_test.shape[0], \"test samples\")"
   ]
  },
  {
   "cell_type": "code",
   "execution_count": 73,
   "metadata": {},
   "outputs": [],
   "source": [
    "# convert class vectors to binary class matrices\n",
    "y_train = keras.utils.to_categorical(y_train, num_classes)\n",
    "y_test = keras.utils.to_categorical(y_test, num_classes)"
   ]
  },
  {
   "cell_type": "markdown",
   "metadata": {},
   "source": [
    "## Build the model"
   ]
  },
  {
   "cell_type": "code",
   "execution_count": 77,
   "metadata": {},
   "outputs": [],
   "source": [
    "def build_model():\n",
    "    model = Sequential()\n",
    "    model.add(Conv2D(32, (3, 3), input_shape=input_shape))\n",
    "    model.add(Activation('relu'))\n",
    "    model.add(MaxPooling2D(pool_size=(2, 2)))\n",
    "\n",
    "    model.add(Conv2D(32, (3, 3)))\n",
    "    model.add(Activation('relu'))\n",
    "    model.add(MaxPooling2D(pool_size=(2, 2)))\n",
    "\n",
    "    model.add(Conv2D(64, (3, 3)))\n",
    "    model.add(Activation('relu'))\n",
    "    model.add(MaxPooling2D(pool_size=(2, 2)))\n",
    "\n",
    "    model.add(Flatten())\n",
    "    model.add(Dropout(rate=0.5))\n",
    "    model.add(Dense(num_classes, activation='softmax'))\n",
    "\n",
    "    return model"
   ]
  },
  {
   "cell_type": "code",
   "execution_count": 78,
   "metadata": {},
   "outputs": [
    {
     "name": "stdout",
     "output_type": "stream",
     "text": [
      "Model: \"sequential_1\"\n",
      "_________________________________________________________________\n",
      " Layer (type)                Output Shape              Param #   \n",
      "=================================================================\n",
      " conv2d_3 (Conv2D)           (None, 26, 26, 32)        320       \n",
      "                                                                 \n",
      " activation_5 (Activation)   (None, 26, 26, 32)        0         \n",
      "                                                                 \n",
      " max_pooling2d_3 (MaxPoolin  (None, 13, 13, 32)        0         \n",
      " g2D)                                                            \n",
      "                                                                 \n",
      " conv2d_4 (Conv2D)           (None, 11, 11, 32)        9248      \n",
      "                                                                 \n",
      " activation_6 (Activation)   (None, 11, 11, 32)        0         \n",
      "                                                                 \n",
      " max_pooling2d_4 (MaxPoolin  (None, 5, 5, 32)          0         \n",
      " g2D)                                                            \n",
      "                                                                 \n",
      " conv2d_5 (Conv2D)           (None, 3, 3, 64)          18496     \n",
      "                                                                 \n",
      " activation_7 (Activation)   (None, 3, 3, 64)          0         \n",
      "                                                                 \n",
      " max_pooling2d_5 (MaxPoolin  (None, 1, 1, 64)          0         \n",
      " g2D)                                                            \n",
      "                                                                 \n",
      " flatten_1 (Flatten)         (None, 64)                0         \n",
      "                                                                 \n",
      " dropout_1 (Dropout)         (None, 64)                0         \n",
      "                                                                 \n",
      " dense_2 (Dense)             (None, 10)                650       \n",
      "                                                                 \n",
      "=================================================================\n",
      "Total params: 28714 (112.16 KB)\n",
      "Trainable params: 28714 (112.16 KB)\n",
      "Non-trainable params: 0 (0.00 Byte)\n",
      "_________________________________________________________________\n"
     ]
    }
   ],
   "source": [
    "# get the model\n",
    "model = build_model()\n",
    "model.summary()"
   ]
  },
  {
   "cell_type": "code",
   "execution_count": 79,
   "metadata": {},
   "outputs": [
    {
     "name": "stdout",
     "output_type": "stream",
     "text": [
      "WARNING:tensorflow:From c:\\Users\\m-dup\\AppData\\Local\\Programs\\Python\\Python311\\Lib\\site-packages\\keras\\src\\optimizers\\__init__.py:309: The name tf.train.Optimizer is deprecated. Please use tf.compat.v1.train.Optimizer instead.\n",
      "\n"
     ]
    }
   ],
   "source": [
    "# compile the model\n",
    "model.compile(\n",
    "    loss='categorical_crossentropy',\n",
    "    optimizer='rmsprop',\n",
    "    metrics=['accuracy']\n",
    ")"
   ]
  },
  {
   "cell_type": "markdown",
   "metadata": {},
   "source": [
    "## Train the model"
   ]
  },
  {
   "cell_type": "code",
   "execution_count": 80,
   "metadata": {},
   "outputs": [
    {
     "name": "stdout",
     "output_type": "stream",
     "text": [
      "Epoch 1/15\n",
      "WARNING:tensorflow:From c:\\Users\\m-dup\\AppData\\Local\\Programs\\Python\\Python311\\Lib\\site-packages\\keras\\src\\utils\\tf_utils.py:492: The name tf.ragged.RaggedTensorValue is deprecated. Please use tf.compat.v1.ragged.RaggedTensorValue instead.\n",
      "\n",
      "WARNING:tensorflow:From c:\\Users\\m-dup\\AppData\\Local\\Programs\\Python\\Python311\\Lib\\site-packages\\keras\\src\\engine\\base_layer_utils.py:384: The name tf.executing_eagerly_outside_functions is deprecated. Please use tf.compat.v1.executing_eagerly_outside_functions instead.\n",
      "\n",
      "106/106 [==============================] - 4s 20ms/step - loss: 2.2479 - accuracy: 0.1098 - val_loss: 4.1329 - val_accuracy: 0.0000e+00\n",
      "Epoch 2/15\n",
      "106/106 [==============================] - 2s 18ms/step - loss: 2.2226 - accuracy: 0.1118 - val_loss: 4.3945 - val_accuracy: 0.0000e+00\n",
      "Epoch 3/15\n",
      "106/106 [==============================] - 2s 16ms/step - loss: 2.1754 - accuracy: 0.1549 - val_loss: 5.7734 - val_accuracy: 0.0000e+00\n",
      "Epoch 4/15\n",
      "106/106 [==============================] - 2s 15ms/step - loss: 1.8159 - accuracy: 0.3223 - val_loss: 9.5265 - val_accuracy: 0.0000e+00\n",
      "Epoch 5/15\n",
      "106/106 [==============================] - 2s 15ms/step - loss: 1.5230 - accuracy: 0.4269 - val_loss: 11.4054 - val_accuracy: 0.0000e+00\n",
      "Epoch 6/15\n",
      "106/106 [==============================] - 2s 16ms/step - loss: 1.3900 - accuracy: 0.4925 - val_loss: 12.2368 - val_accuracy: 0.0000e+00\n",
      "Epoch 7/15\n",
      "106/106 [==============================] - 2s 15ms/step - loss: 1.2856 - accuracy: 0.5416 - val_loss: 12.8003 - val_accuracy: 0.0000e+00\n",
      "Epoch 8/15\n",
      "106/106 [==============================] - 2s 16ms/step - loss: 1.2220 - accuracy: 0.5705 - val_loss: 13.5772 - val_accuracy: 0.0000e+00\n",
      "Epoch 9/15\n",
      "106/106 [==============================] - 2s 15ms/step - loss: 1.1610 - accuracy: 0.5932 - val_loss: 15.1149 - val_accuracy: 0.0000e+00\n",
      "Epoch 10/15\n",
      "106/106 [==============================] - 2s 15ms/step - loss: 1.1395 - accuracy: 0.6008 - val_loss: 14.2313 - val_accuracy: 0.0000e+00\n",
      "Epoch 11/15\n",
      "106/106 [==============================] - 2s 17ms/step - loss: 1.1051 - accuracy: 0.6118 - val_loss: 15.3556 - val_accuracy: 0.0000e+00\n",
      "Epoch 12/15\n",
      "106/106 [==============================] - 2s 17ms/step - loss: 1.0774 - accuracy: 0.6253 - val_loss: 16.0768 - val_accuracy: 0.0000e+00\n",
      "Epoch 13/15\n",
      "106/106 [==============================] - 2s 16ms/step - loss: 1.0533 - accuracy: 0.6321 - val_loss: 16.1082 - val_accuracy: 0.0000e+00\n",
      "Epoch 14/15\n",
      "106/106 [==============================] - 2s 17ms/step - loss: 1.0200 - accuracy: 0.6432 - val_loss: 16.4642 - val_accuracy: 0.0000e+00\n",
      "Epoch 15/15\n",
      "106/106 [==============================] - 2s 16ms/step - loss: 0.9979 - accuracy: 0.6482 - val_loss: 17.0444 - val_accuracy: 0.0000e+00\n"
     ]
    },
    {
     "data": {
      "text/plain": [
       "<keras.src.callbacks.History at 0x1c7f99b6d90>"
      ]
     },
     "execution_count": 80,
     "metadata": {},
     "output_type": "execute_result"
    }
   ],
   "source": [
    "batch_size = 128\n",
    "epochs = 15\n",
    "\n",
    "model.compile(loss=\"categorical_crossentropy\", optimizer=\"adam\", metrics=[\"accuracy\"])\n",
    "\n",
    "model.fit(x_train, y_train, batch_size=batch_size, epochs=epochs, validation_split=0.1)"
   ]
  },
  {
   "cell_type": "markdown",
   "metadata": {},
   "source": [
    "## Evaluate the trained model"
   ]
  },
  {
   "cell_type": "code",
   "execution_count": 81,
   "metadata": {},
   "outputs": [
    {
     "name": "stdout",
     "output_type": "stream",
     "text": [
      "Test loss: 2.3677165508270264\n",
      "Test accuracy: 0.6389333605766296\n"
     ]
    }
   ],
   "source": [
    "score = model.evaluate(x_test, y_test, verbose=0)\n",
    "print(\"Test loss:\", score[0])\n",
    "print(\"Test accuracy:\", score[1])"
   ]
  },
  {
   "cell_type": "code",
   "execution_count": null,
   "metadata": {},
   "outputs": [],
   "source": []
  }
 ],
 "metadata": {
  "kernelspec": {
   "display_name": "Python 3",
   "language": "python",
   "name": "python3"
  },
  "language_info": {
   "codemirror_mode": {
    "name": "ipython",
    "version": 3
   },
   "file_extension": ".py",
   "mimetype": "text/x-python",
   "name": "python",
   "nbconvert_exporter": "python",
   "pygments_lexer": "ipython3",
   "version": "3.11.1"
  }
 },
 "nbformat": 4,
 "nbformat_minor": 2
}
